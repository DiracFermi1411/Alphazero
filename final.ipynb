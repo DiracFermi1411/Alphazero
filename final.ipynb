{
  "cells": [
    {
      "cell_type": "code",
      "source": [
        "!git clone https://github.com/bosky2001/Pytorch-alphazero"
      ],
      "metadata": {
        "colab": {
          "base_uri": "https://localhost:8080/"
        },
        "id": "iDDHALKZeaSm",
        "outputId": "6a0f08a8-d782-4ce5-efe2-d18c99bc546f"
      },
      "execution_count": 29,
      "outputs": [
        {
          "output_type": "stream",
          "name": "stdout",
          "text": [
            "Cloning into 'Pytorch-alphazero'...\n",
            "remote: Enumerating objects: 31, done.\u001b[K\n",
            "remote: Counting objects:   3% (1/31)\u001b[K\rremote: Counting objects:   6% (2/31)\u001b[K\rremote: Counting objects:   9% (3/31)\u001b[K\rremote: Counting objects:  12% (4/31)\u001b[K\rremote: Counting objects:  16% (5/31)\u001b[K\rremote: Counting objects:  19% (6/31)\u001b[K\rremote: Counting objects:  22% (7/31)\u001b[K\rremote: Counting objects:  25% (8/31)\u001b[K\rremote: Counting objects:  29% (9/31)\u001b[K\rremote: Counting objects:  32% (10/31)\u001b[K\rremote: Counting objects:  35% (11/31)\u001b[K\rremote: Counting objects:  38% (12/31)\u001b[K\rremote: Counting objects:  41% (13/31)\u001b[K\rremote: Counting objects:  45% (14/31)\u001b[K\rremote: Counting objects:  48% (15/31)\u001b[K\rremote: Counting objects:  51% (16/31)\u001b[K\rremote: Counting objects:  54% (17/31)\u001b[K\rremote: Counting objects:  58% (18/31)\u001b[K\rremote: Counting objects:  61% (19/31)\u001b[K\rremote: Counting objects:  64% (20/31)\u001b[K\rremote: Counting objects:  67% (21/31)\u001b[K\rremote: Counting objects:  70% (22/31)\u001b[K\rremote: Counting objects:  74% (23/31)\u001b[K\rremote: Counting objects:  77% (24/31)\u001b[K\rremote: Counting objects:  80% (25/31)\u001b[K\rremote: Counting objects:  83% (26/31)\u001b[K\rremote: Counting objects:  87% (27/31)\u001b[K\rremote: Counting objects:  90% (28/31)\u001b[K\rremote: Counting objects:  93% (29/31)\u001b[K\rremote: Counting objects:  96% (30/31)\u001b[K\rremote: Counting objects: 100% (31/31)\u001b[K\rremote: Counting objects: 100% (31/31), done.\u001b[K\n",
            "remote: Compressing objects: 100% (29/29), done.\u001b[K\n",
            "remote: Total 31 (delta 3), reused 0 (delta 0), pack-reused 0\u001b[K\n",
            "Unpacking objects: 100% (31/31), 12.70 MiB | 5.11 MiB/s, done.\n"
          ]
        }
      ]
    },
    {
      "cell_type": "code",
      "execution_count": 28,
      "metadata": {
        "colab": {
          "base_uri": "https://localhost:8080/"
        },
        "id": "5v1sj37zLrIk",
        "outputId": "fcdef601-5ee7-4d97-fe07-707f9d581f8e"
      },
      "outputs": [
        {
          "output_type": "stream",
          "name": "stdout",
          "text": [
            "/content\n"
          ]
        }
      ],
      "source": [
        "%cd /content"
      ]
    },
    {
      "cell_type": "code",
      "execution_count": 30,
      "metadata": {
        "colab": {
          "base_uri": "https://localhost:8080/"
        },
        "id": "54czm-boLxC-",
        "outputId": "1de9b69f-a7e7-4989-a4a1-9b402a6ee051"
      },
      "outputs": [
        {
          "output_type": "stream",
          "name": "stdout",
          "text": [
            "/content/Pytorch-alphazero\n"
          ]
        }
      ],
      "source": [
        "%cd Pytorch-alphazero/"
      ]
    },
    {
      "cell_type": "code",
      "execution_count": 31,
      "metadata": {
        "colab": {
          "base_uri": "https://localhost:8080/"
        },
        "id": "00hsupTfLyDN",
        "outputId": "51cb3b07-890a-4f94-dafb-48737514089b"
      },
      "outputs": [
        {
          "output_type": "stream",
          "name": "stdout",
          "text": [
            "Looking in indexes: https://pypi.org/simple, https://us-python.pkg.dev/colab-wheels/public/simple/\n",
            "Requirement already satisfied: python-chess in /usr/local/lib/python3.10/dist-packages (1.999)\n",
            "Requirement already satisfied: chess<2,>=1 in /usr/local/lib/python3.10/dist-packages (from python-chess) (1.9.4)\n"
          ]
        }
      ],
      "source": [
        "!pip install python-chess"
      ]
    },
    {
      "cell_type": "code",
      "execution_count": 32,
      "metadata": {
        "colab": {
          "base_uri": "https://localhost:8080/"
        },
        "id": "OMrGwr_MMIht",
        "outputId": "1da2126b-3d67-459a-8e7f-124bc3ce7f62"
      },
      "outputs": [
        {
          "output_type": "stream",
          "name": "stdout",
          "text": [
            "Looking in indexes: https://pypi.org/simple, https://us-python.pkg.dev/colab-wheels/public/simple/\n",
            "Requirement already satisfied: atomic in /usr/local/lib/python3.10/dist-packages (0.7.3)\n",
            "Requirement already satisfied: cffi in /usr/local/lib/python3.10/dist-packages (from atomic) (1.15.1)\n",
            "Requirement already satisfied: pycparser in /usr/local/lib/python3.10/dist-packages (from cffi->atomic) (2.21)\n"
          ]
        }
      ],
      "source": [
        "!pip install atomic"
      ]
    },
    {
      "cell_type": "code",
      "source": [
        "%cd pytorch-alpha-zero-master/"
      ],
      "metadata": {
        "colab": {
          "base_uri": "https://localhost:8080/"
        },
        "id": "sLeyxcv4fTKJ",
        "outputId": "820f424a-a17b-49c6-f5f4-0bb79783932a"
      },
      "execution_count": 34,
      "outputs": [
        {
          "output_type": "stream",
          "name": "stdout",
          "text": [
            "/content/Pytorch-alphazero/pytorch-alpha-zero-master\n"
          ]
        }
      ]
    },
    {
      "cell_type": "code",
      "source": [
        "!ls"
      ],
      "metadata": {
        "colab": {
          "base_uri": "https://localhost:8080/"
        },
        "id": "OzbE6aZZo7lX",
        "outputId": "c0515c9a-c299-48b0-c96f-bcb008ffc85c"
      },
      "execution_count": 35,
      "outputs": [
        {
          "output_type": "stream",
          "name": "stdout",
          "text": [
            "AlphaZeroNetwork.py  encoder.py  playchess.py  reformat.py  static    weights\n",
            "CCRLDataset.py\t     MCTS.py\t README.md     server.py    train.py\n"
          ]
        }
      ]
    },
    {
      "cell_type": "code",
      "execution_count": 37,
      "metadata": {
        "colab": {
          "base_uri": "https://localhost:8080/"
        },
        "id": "m9S3bcDUL2Sl",
        "outputId": "600f8aa4-2537-4ffa-dbf0-9f440fe2986a"
      },
      "outputs": [
        {
          "output_type": "stream",
          "name": "stdout",
          "text": [
            "White's turn\n",
            ". . . . . . . .\n",
            ". p . . . . . .\n",
            ". . . . . . . .\n",
            ". P . B . . . .\n",
            ". B . . n . . K\n",
            ". . . p k . . .\n",
            ". . . . . . . .\n",
            ". . . . . . . .\n",
            "|   move   |    P     |    N     |    Q     |   UCT    |\n",
            "|   d5b7   |    0.3501| 1490.0000|    0.6587|    0.6744|\n",
            "|   b5b6   |    0.0641|  149.0000|    0.6408|    0.6695|\n",
            "|   d5e4   |    0.1139|   80.0000|    0.5770|    0.6714|\n",
            "|   b4a5   |    0.0343|   75.0000|    0.6403|    0.6706|\n",
            "|   d5b3   |    0.0534|   58.0000|    0.6129|    0.6736|\n",
            "|   h4h3   |    0.0542|   41.0000|    0.5841|    0.6707|\n",
            "|   d5c4   |    0.0920|   40.0000|    0.5170|    0.6676|\n",
            "|   h4g4   |    0.1236|   29.0000|    0.3807|    0.6571|\n",
            "|   h4h5   |    0.0252|   15.0000|    0.5620|    0.6677|\n",
            "|   b4e1   |    0.0181|   12.0000|    0.5746|    0.6682|\n",
            "|   b4c5   |    0.0169|    3.0000|    0.2095|    0.4928|\n",
            "|   b4e7   |    0.0102|    3.0000|    0.4854|    0.6559|\n",
            "|   b4d2   |    0.0080|    0.0000|    0.0000|    0.5379|\n",
            "|   b4a3   |    0.0031|    0.0000|    0.0000|    0.2099|\n",
            "|   b4c3   |    0.0028|    0.0000|    0.0000|    0.1866|\n",
            "|   b4d6   |    0.0036|    0.0000|    0.0000|    0.2424|\n",
            "|   b4f8   |    0.0014|    0.0000|    0.0000|    0.0970|\n",
            "|   d5a2   |    0.0039|    0.0000|    0.0000|    0.2591|\n",
            "|   d5c6   |    0.0016|    0.0000|    0.0000|    0.1079|\n",
            "|   d5e6   |    0.0055|    0.0000|    0.0000|    0.3689|\n",
            "|   d5f7   |    0.0097|    0.0000|    0.0000|    0.6530|\n",
            "|   d5g8   |    0.0042|    0.0000|    0.0000|    0.2851|\n",
            "\n",
            "total rollouts 2001 Q 0.642 duplicate paths 21 elapsed 21.16 nps 94.55\n",
            "best move d5b7\n",
            "Black's turn\n",
            ". . . . . . . .\n",
            ". B . . . . . .\n",
            ". . . . . . . .\n",
            ". P . . . . . .\n",
            ". B . . n . . K\n",
            ". . . p k . . .\n",
            ". . . . . . . .\n",
            ". . . . . . . .\n",
            "Choose a move d3d2\n",
            "White's turn\n",
            ". . . . . . . .\n",
            ". B . . . . . .\n",
            ". . . . . . . .\n",
            ". P . . . . . .\n",
            ". B . . n . . K\n",
            ". . . . k . . .\n",
            ". . . p . . . .\n",
            ". . . . . . . .\n",
            "|   move   |    P     |    N     |    Q     |   UCT    |\n",
            "|   b4d2   |    0.6410| 1909.0000|    0.6520|    0.6745|\n",
            "|   h4g4   |    0.1235|   28.0000|    0.3669|    0.6526|\n",
            "|   b5b6   |    0.0557|   13.0000|    0.3922|    0.6590|\n",
            "|   h4h3   |    0.0638|   13.0000|    0.3657|    0.6714|\n",
            "|   b7e4   |    0.0163|   13.0000|    0.5924|    0.6705|\n",
            "|   b7d5   |    0.0400|   12.0000|    0.4516|    0.6581|\n",
            "|   h4h5   |    0.0188|    2.0000|    0.2348|    0.6545|\n",
            "|   b7c6   |    0.0142|    2.0000|    0.2310|    0.5481|\n",
            "|   b4a3   |    0.0020|    0.0000|    0.0000|    0.1360|\n",
            "|   b4c3   |    0.0011|    0.0000|    0.0000|    0.0743|\n",
            "|   b4a5   |    0.0057|    0.0000|    0.0000|    0.3821|\n",
            "|   b4c5   |    0.0010|    0.0000|    0.0000|    0.0703|\n",
            "|   b4d6   |    0.0004|    0.0000|    0.0000|    0.0284|\n",
            "|   b4e7   |    0.0011|    0.0000|    0.0000|    0.0768|\n",
            "|   b4f8   |    0.0004|    0.0000|    0.0000|    0.0239|\n",
            "|   b7a6   |    0.0050|    0.0000|    0.0000|    0.3331|\n",
            "|   b7a8   |    0.0016|    0.0000|    0.0000|    0.1092|\n",
            "|   b7c8   |    0.0085|    0.0000|    0.0000|    0.5675|\n",
            "\n",
            "total rollouts 2001 Q 0.642 duplicate paths 27 elapsed 19.03 nps 105.16\n",
            "best move b4d2\n",
            "Black's turn\n",
            ". . . . . . . .\n",
            ". B . . . . . .\n",
            ". . . . . . . .\n",
            ". P . . . . . .\n",
            ". . . . n . . K\n",
            ". . . . k . . .\n",
            ". . . B . . . .\n",
            ". . . . . . . .\n",
            "Choose a move e4d2\n",
            "White's turn\n",
            ". . . . . . . .\n",
            ". B . . . . . .\n",
            ". . . . . . . .\n",
            ". P . . . . . .\n",
            ". . . . . . . K\n",
            ". . . . k . . .\n",
            ". . . n . . . .\n",
            ". . . . . . . .\n",
            "|   move   |    P     |    N     |    Q     |   UCT    |\n",
            "|   b7d5   |    0.0928|  522.0000|    0.6491|    0.6610|\n",
            "|   h4g4   |    0.1256|  343.0000|    0.6287|    0.6532|\n",
            "|   h4g3   |    0.1246|  337.0000|    0.6293|    0.6540|\n",
            "|   h4g5   |    0.2345|  213.0000|    0.5808|    0.6543|\n",
            "|   b5b6   |    0.1913|  194.0000|    0.5876|    0.6535|\n",
            "|   b7c6   |    0.0704|  151.0000|    0.6215|    0.6526|\n",
            "|   h4h3   |    0.0630|   98.0000|    0.6120|    0.6547|\n",
            "|   b7c8   |    0.0305|   50.0000|    0.6119|    0.6520|\n",
            "|   b7a6   |    0.0127|   28.0000|    0.6239|    0.6532|\n",
            "|   h4h5   |    0.0196|   25.0000|    0.5982|    0.6487|\n",
            "|   b7a8   |    0.0109|   18.0000|    0.6107|    0.6493|\n",
            "|   b7g2   |    0.0177|   17.0000|    0.5842|    0.6500|\n",
            "|   b7h1   |    0.0022|    0.0000|    0.0000|    0.1445|\n",
            "|   b7f3   |    0.0014|    0.0000|    0.0000|    0.0913|\n",
            "|   b7e4   |    0.0029|    0.0000|    0.0000|    0.1966|\n",
            "\n",
            "total rollouts 2001 Q 0.622 duplicate paths 8 elapsed 19.56 nps 102.32\n",
            "best move b7d5\n",
            "Black's turn\n",
            ". . . . . . . .\n",
            ". . . . . . . .\n",
            ". . . . . . . .\n",
            ". P . B . . . .\n",
            ". . . . . . . K\n",
            ". . . . k . . .\n",
            ". . . n . . . .\n",
            ". . . . . . . .\n",
            "Choose a move e3d4\n",
            "White's turn\n",
            ". . . . . . . .\n",
            ". . . . . . . .\n",
            ". . . . . . . .\n",
            ". P . B . . . .\n",
            ". . . k . . . K\n",
            ". . . . . . . .\n",
            ". . . n . . . .\n",
            ". . . . . . . .\n",
            "|   move   |    P     |    N     |    Q     |   UCT    |\n",
            "|   b5b6   |    0.2225| 1693.0000|    0.6884|    0.6973|\n",
            "|   d5c6   |    0.2562|  114.0000|    0.5383|    0.6878|\n",
            "|   d5b7   |    0.1248|   53.0000|    0.5338|    0.6889|\n",
            "|   d5e6   |    0.1118|   46.0000|    0.5292|    0.6888|\n",
            "|   d5f7   |    0.0748|   31.0000|    0.5291|    0.6859|\n",
            "|   d5g8   |    0.0618|   26.0000|    0.5328|    0.6865|\n",
            "|   d5g2   |    0.0366|   15.0000|    0.5336|    0.6870|\n",
            "|   h4g5   |    0.0452|   11.0000|    0.4184|    0.6713|\n",
            "|   d5a2   |    0.0157|    6.0000|    0.5227|    0.6735|\n",
            "|   h4g3   |    0.0052|    0.0000|    0.0000|    0.3502|\n",
            "|   h4h3   |    0.0057|    0.0000|    0.0000|    0.3847|\n",
            "|   h4g4   |    0.0049|    0.0000|    0.0000|    0.3320|\n",
            "|   h4h5   |    0.0031|    0.0000|    0.0000|    0.2068|\n",
            "|   d5h1   |    0.0045|    0.0000|    0.0000|    0.3027|\n",
            "|   d5b3   |    0.0018|    0.0000|    0.0000|    0.1222|\n",
            "|   d5f3   |    0.0050|    0.0000|    0.0000|    0.3382|\n",
            "|   d5c4   |    0.0095|    0.0000|    0.0000|    0.6379|\n",
            "|   d5e4   |    0.0056|    0.0000|    0.0000|    0.3732|\n",
            "|   d5a8   |    0.0051|    0.0000|    0.0000|    0.3430|\n",
            "\n",
            "total rollouts 2001 Q 0.664 duplicate paths 14 elapsed 19.11 nps 104.71\n",
            "best move b5b6\n",
            "Black's turn\n",
            ". . . . . . . .\n",
            ". . . . . . . .\n",
            ". P . . . . . .\n",
            ". . . B . . . .\n",
            ". . . k . . . K\n",
            ". . . . . . . .\n",
            ". . . n . . . .\n",
            ". . . . . . . .\n",
            "Choose a move d4d5\n",
            "White's turn\n",
            ". . . . . . . .\n",
            ". . . . . . . .\n",
            ". P . . . . . .\n",
            ". . . k . . . .\n",
            ". . . . . . . K\n",
            ". . . . . . . .\n",
            ". . . n . . . .\n",
            ". . . . . . . .\n",
            "|   move   |    P     |    N     |    Q     |   UCT    |\n",
            "|   b6b7   |    0.3740| 1855.0000|    0.7126|    0.7261|\n",
            "|   h4g3   |    0.2242|   50.0000|    0.4246|    0.7196|\n",
            "|   h4g5   |    0.1729|   39.0000|    0.4321|    0.7221|\n",
            "|   h4g4   |    0.1085|   24.0000|    0.4246|    0.7158|\n",
            "|   h4h3   |    0.0849|   19.0000|    0.4368|    0.7216|\n",
            "|   h4h5   |    0.0355|    8.0000|    0.4326|    0.6975|\n",
            "\n",
            "total rollouts 2001 Q 0.692 duplicate paths 10 elapsed 20.66 nps 96.84\n",
            "best move b6b7\n",
            "Black's turn\n",
            ". . . . . . . .\n",
            ". P . . . . . .\n",
            ". . . . . . . .\n",
            ". . . k . . . .\n",
            ". . . . . . . K\n",
            ". . . . . . . .\n",
            ". . . n . . . .\n",
            ". . . . . . . .\n",
            "Choose a move d5c6\n",
            "White's turn\n",
            ". . . . . . . .\n",
            ". P . . . . . .\n",
            ". . k . . . . .\n",
            ". . . . . . . .\n",
            ". . . . . . . K\n",
            ". . . . . . . .\n",
            ". . . n . . . .\n",
            ". . . . . . . .\n",
            "|   move   |    P     |    N     |    Q     |   UCT    |\n",
            "|  b7b8q   |    0.8703| 1603.0000|    0.9564|    0.9928|\n",
            "|  b7b8r   |    0.8703|  144.0000|    0.5839|    0.9866|\n",
            "|  b7b8b   |    0.8703|  119.0000|    0.5011|    0.9878|\n",
            "|  b7b8n   |    0.8703|  118.0000|    0.4969|    0.9877|\n",
            "|   h4g3   |    0.0481|    5.0000|    0.4244|    0.9623|\n",
            "|   h4g5   |    0.0427|    4.0000|    0.4103|    0.9833|\n",
            "|   h4g4   |    0.0199|    1.0000|    0.3155|    0.9842|\n",
            "|   h4h3   |    0.0098|    0.0000|    0.0000|    0.6583|\n",
            "|   h4h5   |    0.0091|    0.0000|    0.0000|    0.6129|\n",
            "\n",
            "total rollouts 2001 Q 0.872 duplicate paths 9 elapsed 18.91 nps 105.82\n",
            "best move b7b8q\n",
            "Black's turn\n",
            ". Q . . . . . .\n",
            ". . . . . . . .\n",
            ". . k . . . . .\n",
            ". . . . . . . .\n",
            ". . . . . . . K\n",
            ". . . . . . . .\n",
            ". . . n . . . .\n",
            ". . . . . . . .\n",
            "Choose a move \n",
            "^C\n"
          ]
        }
      ],
      "source": [
        "!python3 playchess.py --model weights/AlphaZeroNet_10x128.pt --verbose --rollouts 200 --color 'b' --threads 10 --mode h --fen \"8/1p6/8/1P1B4/1B2n2K/3pk3/8/8 w - - 0 1\""
      ]
    },
    {
      "cell_type": "code",
      "source": [],
      "metadata": {
        "id": "8nGUaEJ2egqU"
      },
      "execution_count": null,
      "outputs": []
    }
  ],
  "metadata": {
    "accelerator": "TPU",
    "colab": {
      "provenance": []
    },
    "gpuClass": "standard",
    "kernelspec": {
      "display_name": "Python 3",
      "name": "python3"
    },
    "language_info": {
      "name": "python"
    }
  },
  "nbformat": 4,
  "nbformat_minor": 0
}